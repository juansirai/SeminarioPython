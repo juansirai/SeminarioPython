{
 "cells": [
  {
   "cell_type": "markdown",
   "metadata": {},
   "source": [
    "<h1> Seminario de Lenguaje - Python </h1>\n",
    "\n",
    "Alumno: Juan Sirai <br>\n",
    "Legajo: 20196/3\n",
    "\n",
    "<img src=\"img/cat-typing.gif\">\n",
    "\n",
    "**Consigna:**\n",
    "\n",
    "Con la información de los archivos de texto que se encuentran disponibles en el curso: <br>\n",
    "nombres_1<br>\n",
    "nombres_2<br>\n",
    "* Indique los nombres que se encuentran en ambos. Nota: pruebe utilizando list comprehension.\n",
    "* Genere tres variables con la lista de notas y nombres que se incluyen en los archivos: nombres_1, eval1.txt y eval2.txt e imprima con formato los nombres de los estudiantes con las correspondientes nota y la suma de ambas como se ve en la imagen\n",
    "\n",
    "<img src=\"img/ejercicio8.png\">"
   ]
  },
  {
   "cell_type": "markdown",
   "metadata": {},
   "source": [
    "<h2> 🎯 Lectura y apertura de archivos </h2>\n",
    "    \n",
    "Con el método open() que nos provee python, realizaremos la apertura de los arhivos y los guardaremos en respectivas listas.\n",
    "\n",
    "Dado que en los txt se almacena un espacio en blanco al final de todos los archivos, en nuestras listas omitiremos almacenar dicho espacio en blanco, mediante la técnica de slice [:-1]\n",
    "\n"
   ]
  },
  {
   "cell_type": "code",
   "execution_count": 40,
   "metadata": {},
   "outputs": [],
   "source": [
    "# Definimos una pequeña función para limpiar el txt de nombres, de aquellos caracteres indeseados.\n",
    "\n",
    "diccionario = {\n",
    "# el diccionario guarda como claves los caracteres que quiero reemplazar, y como valores su correspondiente\n",
    "# reemplazo\n",
    "    \"'\": \"\",\n",
    "    \",\": \"\",\n",
    "    \" \": \"\",\n",
    "    \"Á\": \"A\",\n",
    "    \"É\": \"E\",\n",
    "    \"Í\": \"I\",\n",
    "    \"Ó\": \"O\",\n",
    "    \"Ú\": \"U\"\n",
    "}\n",
    "\n",
    "def clean(diccionario, texto):\n",
    "    for i, j in diccionario.items():\n",
    "        texto = texto.replace(i,j)\n",
    "    return texto"
   ]
  },
  {
   "cell_type": "code",
   "execution_count": 41,
   "metadata": {},
   "outputs": [],
   "source": [
    "# Lista de estudiantes 1\n",
    "\n",
    "with open('data/nombres_1.txt', 'r',encoding=\"utf-8\") as f:\n",
    "    lista_estudiantes1 = clean(diccionario, f.read().upper()).split('\\n')[:-1]\n",
    "    \n",
    "# Lista de estudiantes 2\n",
    "with open('data/nombres_2.txt', 'r', encoding=\"utf-8\") as f:\n",
    "    lista_estudiantes2 = clean(diccionario, f.read().upper()).split('\\n')[:-1]\n",
    "    "
   ]
  },
  {
   "cell_type": "markdown",
   "metadata": {},
   "source": [
    "Mostramos en pantalla las listas generadas en el paso anterior"
   ]
  },
  {
   "cell_type": "code",
   "execution_count": 42,
   "metadata": {},
   "outputs": [
    {
     "name": "stdout",
     "output_type": "stream",
     "text": [
      "Lista de estudiantes 1: (la misma contiene 47 elementos) \n",
      "\n",
      "['AGUSTIN', 'ALAN', 'ANDRES', 'ARIADNA', 'BAUTISTA', 'CAROLINA', 'CESAR', 'DAVID', 'DIEGO', 'DOLORES', 'DYLAN', 'ELIANA', 'EMANUEL', 'FABIAN', 'FACUNDO', 'FACUNDO', 'FEDERICO', 'FEDERICO', 'GONZALO', 'GREGORIO', 'IGNACIO', 'JONATHAN', 'JONATHAN', 'JORGE', 'JOSE', 'JUAN', 'JUAN', 'JUAN', 'JULIAN', 'JULIETA', 'LAUTARO', 'LEONEL', 'LUIS', 'LUIS', 'MARCOS', 'MARIA', 'MATEO', 'MATIAS', 'NICOLAS', 'NICOLAS', 'NOELIA', 'PABLO', 'PRISCILA', 'TOMAS', 'TOMAS', 'ULISES', 'YANINA']\n",
      "\n",
      "Lista de estudiantes 2: (la misma contiene 58 elementos)\n",
      "\n",
      "['AGUSTIN', 'AGUSTIN', 'AGUSTIN', 'AILEN', 'ALFREDO', 'AMALIA', 'ARIANA', 'BAUTISTA', 'BRAIAN', 'CARLA', 'CESAR', 'DANIEL', 'DIEGO', 'ELIANA', 'FACUNDO', 'FACUNDO', 'FACUNDO', 'FACUNDO', 'FEDERICO', 'FEDERICO', 'FLAVIA', 'FRANCISCO', 'GERMAN', 'GUIDO', 'GUSTAVO', 'HILARIO', 'IGNACIO', 'IVAN', 'JIMMY', 'JOAQUIN', 'JOSE', 'JOSUE', 'JUAN', 'JUAN', 'LAURA', 'LAURA', 'LAUTARO', 'LAUTARO', 'LUDMILA', 'MARCOS', 'MARCOS', 'MARIANELA', 'MARTIN', 'MATEO', 'MATEO', 'MATIAS', 'MAURO', 'MAXIMILIANO', 'NESTOR', 'NICOLAS', 'PEDRO', 'RAMIRO', 'SOFIA', 'TOBIAS', 'TOMAS', 'TOMAS', 'ULISES', 'YANINA']\n"
     ]
    }
   ],
   "source": [
    "print(f\"Lista de estudiantes 1: (la misma contiene {len(lista_estudiantes1)} elementos) \\n\")\n",
    "print(lista_estudiantes1)\n",
    "\n",
    "print(f\"\\nLista de estudiantes 2: (la misma contiene {len(lista_estudiantes2)} elementos)\\n\")\n",
    "print(lista_estudiantes2)"
   ]
  },
  {
   "cell_type": "markdown",
   "metadata": {},
   "source": [
    "----------------------------------------------------------------------------------------\n",
    "<h2> 🎯 Indique los nombres que se encuentran en ambos archivos </h2>"
   ]
  },
  {
   "cell_type": "markdown",
   "metadata": {},
   "source": [
    "Para desarrollar este inciso, lo que haremos será quedarnos con los **valores unicos** de una de las listas, y mediante **list comprehension** generar una lista nueva para aquellos nombres que se encuentran en ambas.\n",
    "<br>\n",
    "¿Cómo generamos la lista única?\n",
    "<br>\n",
    "* Primero creamos un diccionario, usando los items de la lista como keys: ```dict.fromkeys(lista)```\n",
    "* Con el paso anterior, los duplicados se eliminarán automáticamente, ya que los diccionarios no pueden tener claves duplicadas.\n",
    "* El último paso es volver a convertir ese diccionario en una lista, mediante ```list(diccionario)```\n",
    "\n",
    "Concatenando los pasos anteriores, tenemos que: <br>\n",
    "\n",
    "```nueva_lista = list(dict.fromkeys(lista_original))```"
   ]
  },
  {
   "cell_type": "code",
   "execution_count": 43,
   "metadata": {},
   "outputs": [
    {
     "name": "stdout",
     "output_type": "stream",
     "text": [
      "['AGUSTIN', 'ALAN', 'ANDRES', 'ARIADNA', 'BAUTISTA', 'CAROLINA', 'CESAR', 'DAVID', 'DIEGO', 'DOLORES', 'DYLAN', 'ELIANA', 'EMANUEL', 'FABIAN', 'FACUNDO', 'FEDERICO', 'GONZALO', 'GREGORIO', 'IGNACIO', 'JONATHAN', 'JORGE', 'JOSE', 'JUAN', 'JULIAN', 'JULIETA', 'LAUTARO', 'LEONEL', 'LUIS', 'MARCOS', 'MARIA', 'MATEO', 'MATIAS', 'NICOLAS', 'NOELIA', 'PABLO', 'PRISCILA', 'TOMAS', 'ULISES', 'YANINA']\n"
     ]
    }
   ],
   "source": [
    "lista_unica = list(dict.fromkeys(lista_estudiantes1))\n",
    "print(lista_unica)"
   ]
  },
  {
   "cell_type": "markdown",
   "metadata": {},
   "source": [
    "Ahora que tenemos la lista única, solo queda recorrer la misma y comparar dichos valores contra los de la lista 2, para buscar las coincidencias y almacenarlas en una nueva estructura."
   ]
  },
  {
   "cell_type": "code",
   "execution_count": 44,
   "metadata": {},
   "outputs": [],
   "source": [
    "nombres_en_ambos = [item for item in lista_unica if item in lista_estudiantes2]"
   ]
  },
  {
   "cell_type": "code",
   "execution_count": 45,
   "metadata": {},
   "outputs": [
    {
     "name": "stdout",
     "output_type": "stream",
     "text": [
      "['AGUSTIN', 'BAUTISTA', 'CESAR', 'DIEGO', 'ELIANA', 'FACUNDO', 'FEDERICO', 'IGNACIO', 'JOSE', 'JUAN', 'LAUTARO', 'MARCOS', 'MATEO', 'MATIAS', 'NICOLAS', 'TOMAS', 'ULISES', 'YANINA']\n"
     ]
    }
   ],
   "source": [
    "print(nombres_en_ambos)"
   ]
  },
  {
   "cell_type": "markdown",
   "metadata": {},
   "source": [
    "----------------------------------------------------------------------------------------\n",
    "<h2> 🎯 Generación del reporte de notas</h2>\n",
    "\n",
    "Abrimos los archivos de notas"
   ]
  },
  {
   "cell_type": "code",
   "execution_count": 46,
   "metadata": {},
   "outputs": [],
   "source": [
    "# Lista de notas1\n",
    "\n",
    "with open('data/eval1.txt', 'r',encoding=\"utf-8\") as f:\n",
    "    notas1 = clean(diccionario, f.read()).split('\\n')[:-1]\n",
    "    \n",
    "# Lista de notas2\n",
    "with open('data/eval2.txt', 'r', encoding=\"utf-8\") as f:\n",
    "    notas2 = clean(diccionario, f.read()).split('\\n')[:-1]\n",
    "    "
   ]
  },
  {
   "cell_type": "markdown",
   "metadata": {},
   "source": [
    "Utilizando list comprehension, convertiremos los elementos de cada una de estas listas a enteros, y luego creamos una tercera lista que contenga la suma de ambas notas"
   ]
  },
  {
   "cell_type": "code",
   "execution_count": 47,
   "metadata": {},
   "outputs": [],
   "source": [
    "lista_notas1 = [int(nota) for nota in notas1]\n",
    "lista_notas2 = [int(nota) for nota in notas2]\n",
    "lista_notas3 = [(n1 + n2) for n1,n2 in zip(lista_notas1,lista_notas2)]"
   ]
  },
  {
   "cell_type": "markdown",
   "metadata": {},
   "source": [
    "Dado que las 3 listas tienen la misma longitud, y sus elementos guardan una relación posicional entre sí, procederemos a recorrer las 4 listas con un único for loop, utilizando el mismo índice e imprimiendo así el resultado correspondiente"
   ]
  },
  {
   "cell_type": "code",
   "execution_count": 66,
   "metadata": {},
   "outputs": [
    {
     "name": "stdout",
     "output_type": "stream",
     "text": [
      "ID   Nombre              Ev1     Ev2         Total   \n",
      "----------------------------------------------------\n",
      "0    AGUSTIN             81      30          111     \n",
      "1    ALAN                60      95          155     \n",
      "2    ANDRES              72      28          100     \n",
      "3    ARIADNA             24      84          108     \n",
      "4    BAUTISTA            15      84          99      \n",
      "5    CAROLINA            91      43          134     \n",
      "6    CESAR               12      66          78      \n",
      "7    DAVID               70      51          121     \n",
      "8    DIEGO               29      4           33      \n",
      "9    DOLORES             42      11          53      \n",
      "10   DYLAN               16      58          74      \n",
      "11   ELIANA              3       10          13      \n",
      "12   EMANUEL             35      13          48      \n",
      "13   FABIAN              67      34          101     \n",
      "14   FACUNDO             10      96          106     \n",
      "15   FACUNDO             57      71          128     \n",
      "16   FEDERICO            11      86          97      \n",
      "17   FEDERICO            69      37          106     \n",
      "18   GONZALO             12      64          76      \n",
      "19   GREGORIO            77      13          90      \n",
      "20   IGNACIO             13      8           21      \n",
      "21   JONATHAN            86      87          173     \n",
      "22   JONATHAN            48      14          62      \n",
      "23   JORGE               65      14          79      \n",
      "24   JOSE                51      49          100     \n",
      "25   JUAN                41      27          68      \n",
      "26   JUAN                87      55          142     \n",
      "27   JUAN                43      69          112     \n",
      "28   JULIAN              10      77          87      \n",
      "29   JULIETA             87      59          146     \n",
      "30   LAUTARO             91      57          148     \n",
      "31   LEONEL              15      40          55      \n",
      "32   LUIS                44      96          140     \n",
      "33   LUIS                85      24          109     \n",
      "34   MARCOS              73      30          103     \n",
      "35   MARIA               37      73          110     \n",
      "36   MATEO               42      95          137     \n",
      "37   MATIAS              95      19          114     \n",
      "38   NICOLAS             18      47          65      \n",
      "39   NICOLAS             7       15          22      \n",
      "40   NOELIA              74      31          105     \n",
      "41   PABLO               60      39          99      \n",
      "42   PRISCILA            9       15          24      \n",
      "43   TOMAS               65      74          139     \n",
      "44   TOMAS               93      33          126     \n",
      "45   ULISES              63      57          120     \n",
      "46   YANINA              74      10          84      \n"
     ]
    }
   ],
   "source": [
    "print(f\"{'ID':<5}{'Nombre':<20}{'Ev1':<8}{'Ev2':<12}{'Total':<8}\")\n",
    "print(\"----------------------------------------------------\")\n",
    "for i in range(len(lista_estudiantes1)):\n",
    "    print(f\"{i:<5}{lista_estudiantes1[i]:<20}{lista_notas1[i]:<8}{lista_notas2[i]:<8}\\\n",
    "    {lista_notas3[i]:<8}\")\n"
   ]
  },
  {
   "cell_type": "markdown",
   "metadata": {},
   "source": [
    "<img src=\"img/banner1.jpg\">"
   ]
  }
 ],
 "metadata": {
  "kernelspec": {
   "display_name": "Python 3",
   "language": "python",
   "name": "python3"
  },
  "language_info": {
   "codemirror_mode": {
    "name": "ipython",
    "version": 3
   },
   "file_extension": ".py",
   "mimetype": "text/x-python",
   "name": "python",
   "nbconvert_exporter": "python",
   "pygments_lexer": "ipython3",
   "version": "3.7.9"
  }
 },
 "nbformat": 4,
 "nbformat_minor": 4
}
