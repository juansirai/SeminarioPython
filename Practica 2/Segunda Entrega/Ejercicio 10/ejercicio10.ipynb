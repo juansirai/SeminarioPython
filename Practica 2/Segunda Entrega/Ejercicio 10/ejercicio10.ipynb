{
 "cells": [
  {
   "cell_type": "markdown",
   "metadata": {},
   "source": [
    "<h1> <img src='img/py.png' width=50> Seminario de Lenguaje Python </h1>\n",
    "    \n",
    "<mark>Alumno:</mark> Sirai Juan Bautista <br>\n",
    "<mark>Legajo:</mark> 20196/3\n",
    "    \n",
    "<img src='img/cat-typing.gif' width=\"800\" alt='Python Banner'>\n",
    "<h3> Ejercicio 10 </h3>\n",
    "\n",
    "**Consigna:** <br>\n",
    "\n",
    "Trabajando con los contenidos de los archivos que pueden acceder en el curso:\n",
    "* Nombres\n",
    "* Eval1\n",
    "* Eval2\n",
    "    \n",
    "Manipule estos archivos para realizar lo siguiente:\n",
    "* Generar una estructura con los nombres de los estudiantes y la suma de ambas notas.\n",
    "* Calcular el promedio de las notas totales e informar que alumnos obtuvieron menos que el\n",
    "promedio.\n",
    "\n",
    "-------------------------------------------------------------------------------------------\n",
    "\n",
    "<h2> Indice de contenidos </h2>\n",
    "\n",
    "* [Apertura y Lectura de Archivos](#apertura)\n",
    "* [Generación de Nueva Estructura](#genera_estructura)\n",
    "* [Calculo del promedio e Informe](#promedio)\n",
    "* [Bonus!](#bonus)\n",
    "\n",
    "----------------------------------------------------------------------------------------------"
   ]
  },
  {
   "cell_type": "markdown",
   "metadata": {},
   "source": [
    "<h2>🎯 Apertura y Lectura de archivos </h2> <a class=\"anchor\" id=\"apertura\"></a>"
   ]
  },
  {
   "cell_type": "markdown",
   "metadata": {},
   "source": [
    "En esta sección, vamos a proceder a leer cada uno de los txt proporcionados, y a almacenarlos en una <mark>estructura de listas</mark>, sabiendo que:\n",
    "* a cada indice de la **lista de nombres**, le correspondera la nota almacenada en **dicho índice** en las listas de evaluaciones 1 y evaluaciones 2.\n",
    "* las tres listas poseen la misma cantidad de elementos.\n",
    "\n",
    "Dado que en los txt se almacena un **espacio en blanco** al final de todos los archivos, en nuestras listas omitiremos almacenar dicho espacio en blanco, mediante la técnica de **slice**:  ```lista[:-1]```\n",
    "\n",
    "Como paso de pre-procesamiento, definiremos una función que limpie nuestros txt de aquellos caracteres indeseados:\n",
    "\n",
    "```python\n",
    "def clean(diccionario, texto):\n",
    "    for i, j in diccionario.items():\n",
    "        texto = texto.replace(i,j)\n",
    "    return texto\n",
    "```\n",
    "\n",
    "En donde **diccionario**, no es más que el mapeo de los caracteres que queremos sustituir y su respectivo reemplazo\n",
    "\n",
    "```python\n",
    "diccionario = {\n",
    "    \"'\": \"\",\n",
    "    \",\": \"\",\n",
    "    \" \": \"\"\n",
    "}\n",
    "```"
   ]
  },
  {
   "cell_type": "code",
   "execution_count": 37,
   "metadata": {},
   "outputs": [],
   "source": [
    "# Definimos una pequeña función para limpiar el txt de nombres, de aquellos caracteres indeseados.\n",
    "\n",
    "diccionario = {\n",
    "    \"'\": \"\",\n",
    "    \",\": \"\",\n",
    "    \" \": \"\"\n",
    "}\n",
    "\n",
    "def clean(diccionario, texto):\n",
    "    for i, j in diccionario.items():\n",
    "        texto = texto.replace(i,j)\n",
    "    return texto"
   ]
  },
  {
   "cell_type": "markdown",
   "metadata": {},
   "source": [
    "Mediante el método ```with open()```, procederemos a la apertura de cada uno de los tres txt, y los convertiremos a lista.<br>\n",
    "Tal lo comentado en el punto anterior, mediante un encademamiento vamos a generar en una misma linea el resultado deseado:\n",
    "* funcion clean --> obtengo texto limpio --> convierto a mayuscula --> convierto a lista separando por el escape de linea --> omito el ultimo espacio en blanco"
   ]
  },
  {
   "cell_type": "code",
   "execution_count": 38,
   "metadata": {},
   "outputs": [],
   "source": [
    "# Lista de estudiantes\n",
    "\n",
    "with open('data/nombres_1.txt', 'r',encoding=\"utf-8\") as f:\n",
    "    lista_estudiantes = clean(diccionario, f.read()).upper().split('\\n')[:-1]\n",
    "    \n",
    "# Lista de notas 1\n",
    "with open('data/eval1.txt', 'r', encoding=\"utf-8\") as f:\n",
    "    lista_notas1 = clean(diccionario, f.read()).split('\\n')[:-1]\n",
    "    \n",
    "# Lista de notas 2\n",
    "\n",
    "with open('data/eval2.txt', 'r', encoding=\"utf-8\") as f:\n",
    "    lista_notas2 = clean(diccionario, f.read()).split('\\n')[:-1]"
   ]
  },
  {
   "cell_type": "markdown",
   "metadata": {},
   "source": [
    "Mostramos por pantalla las listas generadas: "
   ]
  },
  {
   "cell_type": "code",
   "execution_count": 39,
   "metadata": {},
   "outputs": [
    {
     "name": "stdout",
     "output_type": "stream",
     "text": [
      "Nombre     Ev 1  Ev 2 \n",
      "-----------------------------------------\n",
      "AGUSTIN    81    30   \n",
      "ALAN       60    95   \n",
      "ANDRÉS     72    28   \n",
      "ARIADNA    24    84   \n",
      "BAUTISTA   15    84   \n",
      "CAROLINA   91    43   \n",
      "CESAR      12    66   \n",
      "DAVID      70    51   \n",
      "DIEGO      29    4    \n",
      "DOLORES    42    11   \n",
      "DYLAN      16    58   \n",
      "ELIANA     3     10   \n",
      "EMANUEL    35    13   \n",
      "FABIÁN     67    34   \n",
      "FACUNDO    10    96   \n",
      "FACUNDO    57    71   \n",
      "FEDERICO   11    86   \n",
      "FEDERICO   69    37   \n",
      "GONZALO    12    64   \n",
      "GREGORIO   77    13   \n",
      "IGNACIO    13    8    \n",
      "JONATHAN   86    87   \n",
      "JONATHAN   48    14   \n",
      "JORGE      65    14   \n",
      "JOSE       51    49   \n",
      "JUAN       41    27   \n",
      "JUAN       87    55   \n",
      "JUAN       43    69   \n",
      "JULIAN     10    77   \n",
      "JULIETA    87    59   \n",
      "LAUTARO    91    57   \n",
      "LEONEL     15    40   \n",
      "LUIS       44    96   \n",
      "LUIS       85    24   \n",
      "MARCOS     73    30   \n",
      "MARÍA      37    73   \n",
      "MATEO      42    95   \n",
      "MATIAS     95    19   \n",
      "NICOLÁS    18    47   \n",
      "NICOLÁS    7     15   \n",
      "NOELIA     74    31   \n",
      "PABLO      60    39   \n",
      "PRISCILA   9     15   \n",
      "TOMAS      65    74   \n",
      "TOMÁS      93    33   \n",
      "ULISES     63    57   \n",
      "YANINA     74    10   \n"
     ]
    }
   ],
   "source": [
    "print(f\"{'Nombre':<10} {'Ev 1':<5} {'Ev 2':<5}\")\n",
    "print('-----------------------------------------')\n",
    "for i in range(len(lista_estudiantes)):\n",
    "    print(f\"{lista_estudiantes[i]:<10} {lista_notas1[i]:<5} {lista_notas2[i]:<5}\")\n",
    "    # (12-len(lista_estudiantes[i])) es utilizado solamente a fines de alinear en columnas. Agrego la cantidad \n",
    "    # de espacios necesarias para que cada impresión del nombre tenga 12 caracteres."
   ]
  },
  {
   "cell_type": "markdown",
   "metadata": {},
   "source": [
    "------------------------------------------------------------------------------------------------------------\n",
    "<h2>🎯 Generación de Estructura.</h2><a class=\"anchor\" id=\"genera_estructura\"></a>"
   ]
  },
  {
   "cell_type": "markdown",
   "metadata": {},
   "source": [
    "Para desarrollar este punto, lo que haremos será confeccionar una función que nos permita **consolidar** las notas de cada alumno, en donde  ```nota consolidada = nota ev1 + nota ev2```.\n",
    "\n",
    "Dicha función, que la llamaremos ```consolidar_notas()```, recibirá como **parametros 3 listas**: \n",
    "* la lista de nombres\n",
    "* la lista de notas1\n",
    "* la lista de notas2\n",
    "\n",
    "Y retornará un único **diccionario**, conformada por ```id_alumno: nota1 + nota2```\n",
    "\n",
    "En donde:\n",
    "* id_alumno: es la clave del diccionario. Al nombre de cada alumno le agregaremos un ID autogenerado, ya que caso contrario el diccionario nos agruparía aquellos alumnos de igual nombre (ya que permite solamente claves unicas)\n",
    "* nota1 + nota2 es el valor asociado a cada clave\n",
    "\n",
    "El diccionario lo crearemos bajo la técnica de dict comprehension, y utilizaremos la función ```zip()```, que al pasarle las dos listas de notas nos creará una lista de tuplas sobre las cuales iterar.\n"
   ]
  },
  {
   "cell_type": "code",
   "execution_count": 46,
   "metadata": {},
   "outputs": [],
   "source": [
    "def consolidar(alumnos:list, notas1:list, notas2:list):\n",
    "    values = [int(x) + int(y) for x,y in zip(notas1, notas2)]\n",
    "    keys = [f\"{i}_{alumnos[i]}\" for i in range(len(alumnos))]\n",
    "    resultado = dict(zip(keys, values))\n",
    "    return resultado"
   ]
  },
  {
   "cell_type": "code",
   "execution_count": 48,
   "metadata": {},
   "outputs": [
    {
     "name": "stdout",
     "output_type": "stream",
     "text": [
      "Nueva estructura \n",
      "\n",
      "👨‍🎓Alumnos\n",
      "\n",
      "dict_keys(['0_AGUSTIN', '1_ALAN', '2_ANDRÉS', '3_ARIADNA', '4_BAUTISTA', '5_CAROLINA', '6_CESAR', '7_DAVID', '8_DIEGO', '9_DOLORES', '10_DYLAN', '11_ELIANA', '12_EMANUEL', '13_FABIÁN', '14_FACUNDO', '15_FACUNDO', '16_FEDERICO', '17_FEDERICO', '18_GONZALO', '19_GREGORIO', '20_IGNACIO', '21_JONATHAN', '22_JONATHAN', '23_JORGE', '24_JOSE', '25_JUAN', '26_JUAN', '27_JUAN', '28_JULIAN', '29_JULIETA', '30_LAUTARO', '31_LEONEL', '32_LUIS', '33_LUIS', '34_MARCOS', '35_MARÍA', '36_MATEO', '37_MATIAS', '38_NICOLÁS', '39_NICOLÁS', '40_NOELIA', '41_PABLO', '42_PRISCILA', '43_TOMAS', '44_TOMÁS', '45_ULISES', '46_YANINA'])\n",
      "\n",
      "📝Notas\n",
      "\n",
      "dict_values([111, 155, 100, 108, 99, 134, 78, 121, 33, 53, 74, 13, 48, 101, 106, 128, 97, 106, 76, 90, 21, 173, 62, 79, 100, 68, 142, 112, 87, 146, 148, 55, 140, 109, 103, 110, 137, 114, 65, 22, 105, 99, 24, 139, 126, 120, 84])\n",
      "\n",
      "\n",
      "Procederemos a imprimir las notas para cada alumno: \n",
      "👨‍🎓Alumno: 0_AGUSTIN            📝Nota: 111\n",
      "👨‍🎓Alumno: 1_ALAN               📝Nota: 155\n",
      "👨‍🎓Alumno: 2_ANDRÉS             📝Nota: 100\n",
      "👨‍🎓Alumno: 3_ARIADNA            📝Nota: 108\n",
      "👨‍🎓Alumno: 4_BAUTISTA           📝Nota: 99\n",
      "👨‍🎓Alumno: 5_CAROLINA           📝Nota: 134\n",
      "👨‍🎓Alumno: 6_CESAR              📝Nota: 78\n",
      "👨‍🎓Alumno: 7_DAVID              📝Nota: 121\n",
      "👨‍🎓Alumno: 8_DIEGO              📝Nota: 33\n",
      "👨‍🎓Alumno: 9_DOLORES            📝Nota: 53\n",
      "👨‍🎓Alumno: 10_DYLAN             📝Nota: 74\n",
      "👨‍🎓Alumno: 11_ELIANA            📝Nota: 13\n",
      "👨‍🎓Alumno: 12_EMANUEL           📝Nota: 48\n",
      "👨‍🎓Alumno: 13_FABIÁN            📝Nota: 101\n",
      "👨‍🎓Alumno: 14_FACUNDO           📝Nota: 106\n",
      "👨‍🎓Alumno: 15_FACUNDO           📝Nota: 128\n",
      "👨‍🎓Alumno: 16_FEDERICO          📝Nota: 97\n",
      "👨‍🎓Alumno: 17_FEDERICO          📝Nota: 106\n",
      "👨‍🎓Alumno: 18_GONZALO           📝Nota: 76\n",
      "👨‍🎓Alumno: 19_GREGORIO          📝Nota: 90\n",
      "👨‍🎓Alumno: 20_IGNACIO           📝Nota: 21\n",
      "👨‍🎓Alumno: 21_JONATHAN          📝Nota: 173\n",
      "👨‍🎓Alumno: 22_JONATHAN          📝Nota: 62\n",
      "👨‍🎓Alumno: 23_JORGE             📝Nota: 79\n",
      "👨‍🎓Alumno: 24_JOSE              📝Nota: 100\n",
      "👨‍🎓Alumno: 25_JUAN              📝Nota: 68\n",
      "👨‍🎓Alumno: 26_JUAN              📝Nota: 142\n",
      "👨‍🎓Alumno: 27_JUAN              📝Nota: 112\n",
      "👨‍🎓Alumno: 28_JULIAN            📝Nota: 87\n",
      "👨‍🎓Alumno: 29_JULIETA           📝Nota: 146\n",
      "👨‍🎓Alumno: 30_LAUTARO           📝Nota: 148\n",
      "👨‍🎓Alumno: 31_LEONEL            📝Nota: 55\n",
      "👨‍🎓Alumno: 32_LUIS              📝Nota: 140\n",
      "👨‍🎓Alumno: 33_LUIS              📝Nota: 109\n",
      "👨‍🎓Alumno: 34_MARCOS            📝Nota: 103\n",
      "👨‍🎓Alumno: 35_MARÍA             📝Nota: 110\n",
      "👨‍🎓Alumno: 36_MATEO             📝Nota: 137\n",
      "👨‍🎓Alumno: 37_MATIAS            📝Nota: 114\n",
      "👨‍🎓Alumno: 38_NICOLÁS           📝Nota: 65\n",
      "👨‍🎓Alumno: 39_NICOLÁS           📝Nota: 22\n",
      "👨‍🎓Alumno: 40_NOELIA            📝Nota: 105\n",
      "👨‍🎓Alumno: 41_PABLO             📝Nota: 99\n",
      "👨‍🎓Alumno: 42_PRISCILA          📝Nota: 24\n",
      "👨‍🎓Alumno: 43_TOMAS             📝Nota: 139\n",
      "👨‍🎓Alumno: 44_TOMÁS             📝Nota: 126\n",
      "👨‍🎓Alumno: 45_ULISES            📝Nota: 120\n",
      "👨‍🎓Alumno: 46_YANINA            📝Nota: 84\n"
     ]
    }
   ],
   "source": [
    "# nueva_estructura = consolidar_notas(lista_estudiantes, lista_notas1, lista_notas2)\n",
    "nueva_estructura = consolidar(lista_estudiantes, lista_notas1, lista_notas2)\n",
    "\n",
    "print(f\"Nueva estructura \\n\\n👨‍🎓Alumnos\\n\\n{nueva_estructura.keys()}\\n\\n📝Notas\\n\\n{nueva_estructura.values()}\\n\\n\")\n",
    "\n",
    "print(\"Procederemos a imprimir las notas para cada alumno: \")\n",
    "for keys, values in nueva_estructura.items():\n",
    "    print(f\"👨‍🎓Alumno: {keys :<20} 📝Nota: {values}\")"
   ]
  },
  {
   "cell_type": "markdown",
   "metadata": {},
   "source": [
    "---------------------------------------------------------------------------------------------------------\n",
    "<h2>🎯 Calculo del Promedio e Informe</h2><a class=\"anchor\" id=\"promedio\"></a>"
   ]
  },
  {
   "cell_type": "markdown",
   "metadata": {},
   "source": [
    "Para desarrollar este punto, lo que haremos será:\n",
    "* Construir una función que retorne el promedio de los elementos de un diccionario pasado como parámetro.\n",
    "* Recorreremos la estructura consolidada generada en el punto anterior, y en cada iteración compararemos si la nota que hay en el iterable, es o no inferior al promedio.<br> En aquellos casos que la comparación resulte verdadera, podemos obtener el nombre del alumno con tan solo imprimir la clave la estructura consolidada."
   ]
  },
  {
   "cell_type": "code",
   "execution_count": 49,
   "metadata": {},
   "outputs": [],
   "source": [
    "def calcular_promedio(diccionario:dict):\n",
    "    total = 0\n",
    "    for num in diccionario.values():\n",
    "        total+=num\n",
    "    print(len(diccionario))\n",
    "    return total/len(diccionario)"
   ]
  },
  {
   "cell_type": "code",
   "execution_count": 51,
   "metadata": {},
   "outputs": [
    {
     "name": "stdout",
     "output_type": "stream",
     "text": [
      "47\n",
      "Los siguientes alumnos obtuvieron notas inferiores al promedio de 96.19: \n",
      "🚩Alumno 6_CESAR              Nota: 78\n",
      "🚩Alumno 8_DIEGO              Nota: 33\n",
      "🚩Alumno 9_DOLORES            Nota: 53\n",
      "🚩Alumno 10_DYLAN             Nota: 74\n",
      "🚩Alumno 11_ELIANA            Nota: 13\n",
      "🚩Alumno 12_EMANUEL           Nota: 48\n",
      "🚩Alumno 18_GONZALO           Nota: 76\n",
      "🚩Alumno 19_GREGORIO          Nota: 90\n",
      "🚩Alumno 20_IGNACIO           Nota: 21\n",
      "🚩Alumno 22_JONATHAN          Nota: 62\n",
      "🚩Alumno 23_JORGE             Nota: 79\n",
      "🚩Alumno 25_JUAN              Nota: 68\n",
      "🚩Alumno 28_JULIAN            Nota: 87\n",
      "🚩Alumno 31_LEONEL            Nota: 55\n",
      "🚩Alumno 38_NICOLÁS           Nota: 65\n",
      "🚩Alumno 39_NICOLÁS           Nota: 22\n",
      "🚩Alumno 42_PRISCILA          Nota: 24\n",
      "🚩Alumno 46_YANINA            Nota: 84\n"
     ]
    }
   ],
   "source": [
    "promedio = calcular_promedio(nueva_estructura)\n",
    "\n",
    "print(f\"Los siguientes alumnos obtuvieron notas inferiores al promedio de {round(promedio,2)}: \")\n",
    "for key, values in nueva_estructura.items():\n",
    "    if values<promedio:\n",
    "        print(f\"🚩Alumno {key :<20} Nota: {values}\")"
   ]
  },
  {
   "cell_type": "markdown",
   "metadata": {},
   "source": [
    "---------------------------------------------------------------------------------------------------------\n",
    "<h2>🎯 Bonus: Y si aplicamos Pandas? 🐼</h2><a class=\"anchor\" id=\"bonus\"></a>"
   ]
  },
  {
   "cell_type": "code",
   "execution_count": 59,
   "metadata": {},
   "outputs": [],
   "source": [
    "import pandas as pd"
   ]
  },
  {
   "cell_type": "code",
   "execution_count": 208,
   "metadata": {},
   "outputs": [],
   "source": [
    "df_notas1 = pd.read_csv('data/eval1.txt',engine='python',delimiter='\\n' ,names=['notas1'])\n",
    "df_notas2 = pd.read_csv('data/eval2.txt',engine='python',delimiter='\\n' ,names=['notas2'])\n",
    "df_alumnos = pd.read_csv('data/nombres_1.txt',engine='python',delimiter='\\n' ,names=['alumno'],encoding=\"utf-8\")\n",
    "\n",
    "# quitamos la , del final de cada nota y convertimos a numero\n",
    "df_notas1['notas1'] =  df_notas1.notas1.apply(lambda x: int(x.replace(\",\",\"\")))\n",
    "df_notas2['notas2'] =  df_notas2.notas2.apply(lambda x: int(x.replace(\",\",\"\")))\n",
    "\n",
    "# quitamos la , del final de cada nombre, y las ''\n",
    "df_alumnos['alumno'] =  df_alumnos.alumno.apply(lambda x: x.replace(\",\",\"\").replace(\"'\",\"\"))"
   ]
  },
  {
   "cell_type": "code",
   "execution_count": 210,
   "metadata": {},
   "outputs": [
    {
     "name": "stdout",
     "output_type": "stream",
     "text": [
      "Alumnos cuyas notas son inferior al promedio 96.19\n"
     ]
    },
    {
     "data": {
      "text/html": [
       "<div>\n",
       "<style scoped>\n",
       "    .dataframe tbody tr th:only-of-type {\n",
       "        vertical-align: middle;\n",
       "    }\n",
       "\n",
       "    .dataframe tbody tr th {\n",
       "        vertical-align: top;\n",
       "    }\n",
       "\n",
       "    .dataframe thead th {\n",
       "        text-align: right;\n",
       "    }\n",
       "</style>\n",
       "<table border=\"1\" class=\"dataframe\">\n",
       "  <thead>\n",
       "    <tr style=\"text-align: right;\">\n",
       "      <th></th>\n",
       "      <th>alumno</th>\n",
       "      <th>notas1</th>\n",
       "      <th>notas2</th>\n",
       "      <th>total</th>\n",
       "    </tr>\n",
       "  </thead>\n",
       "  <tbody>\n",
       "    <tr>\n",
       "      <th>6</th>\n",
       "      <td>CESAR</td>\n",
       "      <td>12</td>\n",
       "      <td>66</td>\n",
       "      <td>78</td>\n",
       "    </tr>\n",
       "    <tr>\n",
       "      <th>8</th>\n",
       "      <td>Diego</td>\n",
       "      <td>29</td>\n",
       "      <td>4</td>\n",
       "      <td>33</td>\n",
       "    </tr>\n",
       "    <tr>\n",
       "      <th>9</th>\n",
       "      <td>Dolores</td>\n",
       "      <td>42</td>\n",
       "      <td>11</td>\n",
       "      <td>53</td>\n",
       "    </tr>\n",
       "    <tr>\n",
       "      <th>10</th>\n",
       "      <td>DYLAN</td>\n",
       "      <td>16</td>\n",
       "      <td>58</td>\n",
       "      <td>74</td>\n",
       "    </tr>\n",
       "    <tr>\n",
       "      <th>11</th>\n",
       "      <td>ELIANA</td>\n",
       "      <td>3</td>\n",
       "      <td>10</td>\n",
       "      <td>13</td>\n",
       "    </tr>\n",
       "    <tr>\n",
       "      <th>12</th>\n",
       "      <td>Emanuel</td>\n",
       "      <td>35</td>\n",
       "      <td>13</td>\n",
       "      <td>48</td>\n",
       "    </tr>\n",
       "    <tr>\n",
       "      <th>18</th>\n",
       "      <td>GONZALO</td>\n",
       "      <td>12</td>\n",
       "      <td>64</td>\n",
       "      <td>76</td>\n",
       "    </tr>\n",
       "    <tr>\n",
       "      <th>19</th>\n",
       "      <td>Gregorio</td>\n",
       "      <td>77</td>\n",
       "      <td>13</td>\n",
       "      <td>90</td>\n",
       "    </tr>\n",
       "    <tr>\n",
       "      <th>20</th>\n",
       "      <td>Ignacio</td>\n",
       "      <td>13</td>\n",
       "      <td>8</td>\n",
       "      <td>21</td>\n",
       "    </tr>\n",
       "    <tr>\n",
       "      <th>22</th>\n",
       "      <td>Jonathan</td>\n",
       "      <td>48</td>\n",
       "      <td>14</td>\n",
       "      <td>62</td>\n",
       "    </tr>\n",
       "    <tr>\n",
       "      <th>23</th>\n",
       "      <td>Jorge</td>\n",
       "      <td>65</td>\n",
       "      <td>14</td>\n",
       "      <td>79</td>\n",
       "    </tr>\n",
       "    <tr>\n",
       "      <th>25</th>\n",
       "      <td>JUAN</td>\n",
       "      <td>41</td>\n",
       "      <td>27</td>\n",
       "      <td>68</td>\n",
       "    </tr>\n",
       "    <tr>\n",
       "      <th>28</th>\n",
       "      <td>Julian</td>\n",
       "      <td>10</td>\n",
       "      <td>77</td>\n",
       "      <td>87</td>\n",
       "    </tr>\n",
       "    <tr>\n",
       "      <th>31</th>\n",
       "      <td>Leonel</td>\n",
       "      <td>15</td>\n",
       "      <td>40</td>\n",
       "      <td>55</td>\n",
       "    </tr>\n",
       "    <tr>\n",
       "      <th>38</th>\n",
       "      <td>Nicolás</td>\n",
       "      <td>18</td>\n",
       "      <td>47</td>\n",
       "      <td>65</td>\n",
       "    </tr>\n",
       "    <tr>\n",
       "      <th>39</th>\n",
       "      <td>NICOLÁS</td>\n",
       "      <td>7</td>\n",
       "      <td>15</td>\n",
       "      <td>22</td>\n",
       "    </tr>\n",
       "    <tr>\n",
       "      <th>42</th>\n",
       "      <td>Priscila</td>\n",
       "      <td>9</td>\n",
       "      <td>15</td>\n",
       "      <td>24</td>\n",
       "    </tr>\n",
       "    <tr>\n",
       "      <th>46</th>\n",
       "      <td>Yanina</td>\n",
       "      <td>74</td>\n",
       "      <td>10</td>\n",
       "      <td>84</td>\n",
       "    </tr>\n",
       "  </tbody>\n",
       "</table>\n",
       "</div>"
      ],
      "text/plain": [
       "       alumno  notas1  notas2  total\n",
       "6       CESAR      12      66     78\n",
       "8       Diego      29       4     33\n",
       "9     Dolores      42      11     53\n",
       "10      DYLAN      16      58     74\n",
       "11     ELIANA       3      10     13\n",
       "12    Emanuel      35      13     48\n",
       "18    GONZALO      12      64     76\n",
       "19   Gregorio      77      13     90\n",
       "20    Ignacio      13       8     21\n",
       "22   Jonathan      48      14     62\n",
       "23      Jorge      65      14     79\n",
       "25       JUAN      41      27     68\n",
       "28     Julian      10      77     87\n",
       "31     Leonel      15      40     55\n",
       "38    Nicolás      18      47     65\n",
       "39    NICOLÁS       7      15     22\n",
       "42   Priscila       9      15     24\n",
       "46     Yanina      74      10     84"
      ]
     },
     "execution_count": 210,
     "metadata": {},
     "output_type": "execute_result"
    }
   ],
   "source": [
    "# concatenamos en un solo dataframe\n",
    "\n",
    "df = pd.concat([df_alumnos, df_notas1, df_notas2], axis=1)\n",
    "\n",
    "# generamos la tercera columna\n",
    "df['total'] = df.notas1 + df.notas2\n",
    "\n",
    "# mostramos los alumnos cuyas notas son inferior al promedio\n",
    "\n",
    "print(f\"Alumnos cuyas notas son inferior al promedio {df.total.mean().round(2)}\")\n",
    "\n",
    "df.loc[df.total<df.total.mean()]"
   ]
  },
  {
   "cell_type": "markdown",
   "metadata": {},
   "source": [
    "<h3> Una imagen vale mas que mil palabras.. </h3>"
   ]
  },
  {
   "cell_type": "code",
   "execution_count": 223,
   "metadata": {},
   "outputs": [],
   "source": [
    "# Importamos seaborn y pyplot para graficar\n",
    "\n",
    "import seaborn as sns\n",
    "import matplotlib.pyplot as plt\n",
    "import matplotlib.gridspec as gridspec"
   ]
  },
  {
   "cell_type": "code",
   "execution_count": 245,
   "metadata": {},
   "outputs": [
    {
     "data": {
      "image/png": "[encoded data removed]",
      "text/plain": [
       "<Figure size 1440x720 with 3 Axes>"
      ]
     },
     "metadata": {
      "needs_background": "light"
     },
     "output_type": "display_data"
    }
   ],
   "source": [
    "fig = plt.figure(1)\n",
    "plt.suptitle('Análisis de Notas',fontsize=30)\n",
    "gridspec.GridSpec(2,2)\n",
    "\n",
    "# Subplot Pequeño\n",
    "plt.subplot2grid((2,2), (0,0), colspan=1, rowspan=1)\n",
    "plt.locator_params(axis='x', nbins=5)\n",
    "plt.locator_params(axis='y', nbins=5)\n",
    "plt.title('Notas evaluacion 1')\n",
    "plt.xlabel('Notas')\n",
    "plt.ylabel('Alumnos')\n",
    "ax = sns.swarmplot(data=df, x='notas1', color=\".25\")\n",
    "ax = sns.boxplot(data=df, x='notas1',palette='Reds')\n",
    "\n",
    "# Subplot Pequeño\n",
    "plt.subplot2grid((2,2), (0,1), colspan=1, rowspan=1)\n",
    "plt.locator_params(axis='x', nbins=5)\n",
    "plt.locator_params(axis='y', nbins=5)\n",
    "plt.title('Notas evaluacion 2')\n",
    "plt.xlabel('Notas')\n",
    "plt.ylabel('Alumnos')\n",
    "ax = sns.swarmplot(data=df, x='notas2', color=\".25\")\n",
    "sns.boxplot(data=df, x='notas2',palette='Reds')\n",
    "\n",
    "# Subplot Largo\n",
    "plt.subplot2grid((2,2), (1,0), colspan=2, rowspan=1)\n",
    "plt.locator_params(axis='x', nbins=5)\n",
    "plt.locator_params(axis='y', nbins=5)\n",
    "plt.title('Notas Total')\n",
    "plt.xlabel('Notas')\n",
    "plt.ylabel('Alumnos')\n",
    "sns.histplot(data=df, x='total',palette='Reds', bins=10)\n",
    "\n",
    "#Ajustando el plot\n",
    "fig.set_size_inches(w=20,h=10)\n",
    "plt.subplots_adjust(hspace=.5)\n",
    "plt.show()"
   ]
  },
  {
   "cell_type": "markdown",
   "metadata": {},
   "source": [
    "Como podemos ver en la imagen, la mediana de notas en la evaluación 1 fue ligeramente superior a la evaluación dos."
   ]
  },
  {
   "cell_type": "code",
   "execution_count": 246,
   "metadata": {},
   "outputs": [
    {
     "name": "stdout",
     "output_type": "stream",
     "text": [
      "Indicadores evaluación 1 \n",
      "Promedio: 49.55\n",
      "Max: 95\n",
      "Min:3\n",
      "\n",
      "Indicadores evaluación 2\n",
      "Promedio: 46.64\n",
      "Max: 96\n",
      "Min:4\n"
     ]
    }
   ],
   "source": [
    "print(f\"Indicadores evaluación 1 \\nPromedio: {df.notas1.mean().round(2)}\\nMax: {df.notas1.max()}\\nMin:\\\n",
    "{df.notas1.min()}\\n\\nIndicadores evaluación 2\\nPromedio: {df.notas2.mean().round(2)}\\nMax: {df.notas2.max()}\\nMin:\\\n",
    "{df.notas2.min()}\")"
   ]
  },
  {
   "cell_type": "markdown",
   "metadata": {},
   "source": [
    "-------------------------------------------------------------------------------------\n",
    "<img src=\"img/banner1.jpg\">\n",
    "\n",
    "-------------------------------------------------------------------------------------"
   ]
  },
  {
   "cell_type": "code",
   "execution_count": null,
   "metadata": {},
   "outputs": [],
   "source": []
  }
 ],
 "metadata": {
  "kernelspec": {
   "display_name": "Python 3",
   "language": "python",
   "name": "python3"
  },
  "language_info": {
   "codemirror_mode": {
    "name": "ipython",
    "version": 3
   },
   "file_extension": ".py",
   "mimetype": "text/x-python",
   "name": "python",
   "nbconvert_exporter": "python",
   "pygments_lexer": "ipython3",
   "version": "3.7.9"
  }
 },
 "nbformat": 4,
 "nbformat_minor": 4
}
