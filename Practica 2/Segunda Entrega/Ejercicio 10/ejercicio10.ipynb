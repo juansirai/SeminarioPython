{
 "cells": [
  {
   "cell_type": "markdown",
   "metadata": {},
   "source": [
    "<h1> <img src='img/py.png' width=50> Seminario de Lenguaje Python </h1>\n",
    "    \n",
    "<mark>Alumno:</mark> Sirai Juan Bautista <br>\n",
    "<mark>Legajo:</mark> 20196/3\n",
    "    \n",
    "<img src='img/cat-typing.gif' width=\"800\" alt='Python Banner'>\n",
    "<h3> Ejercicio 10 </h3>\n",
    "\n",
    "**Consigna:** <br>\n",
    "\n",
    "Trabajando con los contenidos de los archivos que pueden acceder en el curso:\n",
    "* Nombres\n",
    "* Eval1\n",
    "* Eval2\n",
    "    \n",
    "Manipule estos archivos para realizar lo siguiente:\n",
    "* Generar una estructura con los nombres de los estudiantes y la suma de ambas notas.\n",
    "* Calcular el promedio de las notas totales e informar que alumnos obtuvieron menos que el\n",
    "promedio.\n",
    "\n",
    "-------------------------------------------------------------------------------------------\n",
    "\n",
    "<h2> Indice de contenidos </h2>\n",
    "\n",
    "* [Apertura y Lectura de Archivos](#apertura)\n",
    "* [Generación de Nueva Estructura](#genera_estructura)\n",
    "* [Calculo del promedio e Informe](#promedio)\n",
    "\n",
    "----------------------------------------------------------------------------------------------"
   ]
  },
  {
   "cell_type": "markdown",
   "metadata": {},
   "source": [
    "<h2>🎯 Apertura y Lectura de archivos </h2> <a class=\"anchor\" id=\"apertura\"></a>"
   ]
  },
  {
   "cell_type": "markdown",
   "metadata": {},
   "source": [
    "En esta sección, vamos a proceder a leer cada uno de los txt proporcionados, y a almacenarlos en una <mark>estructura de listas</mark>, sabiendo que:\n",
    "* a cada indice de la **lista de nombres**, le correspondera la nota almacenada en **dicho índice** en las listas de evaluaciones 1 y evaluaciones 2.\n",
    "* las tres listas poseen la misma cantidad de elementos.\n",
    "\n",
    "Dado que en los txt se almacena un **espacio en blanco** al final de todos los archivos, en nuestras listas omitiremos almacenar dicho espacio en blanco, mediante la técnica de **slice**:  ```lista[:-1]```\n",
    "\n",
    "Como paso de pre-procesamiento, definiremos una función que limpie nuestros txt de aquellos caracteres indeseados:\n",
    "\n",
    "```python\n",
    "def clean(diccionario, texto):\n",
    "    for i, j in diccionario.items():\n",
    "        texto = texto.replace(i,j)\n",
    "    return texto\n",
    "```\n",
    "\n",
    "En donde **diccionario**, no es más que el mapeo de los caracteres que queremos sustituir y su respectivo reemplazo\n",
    "\n",
    "```python\n",
    "diccionario = {\n",
    "    \"'\": \"\",\n",
    "    \",\": \"\",\n",
    "    \" \": \"\"\n",
    "}\n",
    "```"
   ]
  },
  {
   "cell_type": "code",
   "execution_count": 1,
   "metadata": {},
   "outputs": [],
   "source": [
    "# Definimos una pequeña función para limpiar el txt de nombres, de aquellos caracteres indeseados.\n",
    "\n",
    "diccionario = {\n",
    "    \"'\": \"\",\n",
    "    \",\": \"\",\n",
    "    \" \": \"\"\n",
    "}\n",
    "\n",
    "def clean(diccionario, texto):\n",
    "    for i, j in diccionario.items():\n",
    "        texto = texto.replace(i,j)\n",
    "    return texto"
   ]
  },
  {
   "cell_type": "markdown",
   "metadata": {},
   "source": [
    "Mediante el método ```with open()```, procederemos a la apertura de cada uno de los tres txt, y los convertiremos a lista.<br>\n",
    "Tal lo comentado en el punto anterior, mediante un encademamiento vamos a generar en una misma linea el resultado deseado:\n",
    "* funcion clean --> obtengo texto limpio --> convierto a mayuscula --> convierto a lista separando por el escape de linea --> omito el ultimo espacio en blanco"
   ]
  },
  {
   "cell_type": "code",
   "execution_count": 2,
   "metadata": {},
   "outputs": [],
   "source": [
    "# Lista de estudiantes\n",
    "\n",
    "with open('data/nombres_1.txt', 'r',encoding=\"utf-8\") as f:\n",
    "    lista_estudiantes = clean(diccionario, f.read()).upper().split('\\n')[:-1]\n",
    "    \n",
    "# Lista de notas 1\n",
    "with open('data/eval1.txt', 'r', encoding=\"utf-8\") as f:\n",
    "    lista_notas1 = clean(diccionario, f.read()).split('\\n')[:-1]\n",
    "    \n",
    "# Lista de notas 2\n",
    "\n",
    "with open('data/eval2.txt', 'r', encoding=\"utf-8\") as f:\n",
    "    lista_notas2 = clean(diccionario, f.read()).split('\\n')[:-1]"
   ]
  },
  {
   "cell_type": "markdown",
   "metadata": {},
   "source": [
    "Mostramos por pantalla las listas generadas: "
   ]
  },
  {
   "cell_type": "code",
   "execution_count": 3,
   "metadata": {},
   "outputs": [
    {
     "name": "stdout",
     "output_type": "stream",
     "text": [
      "Nombre     Ev 1  Ev 2 \n",
      "-----------------------------------------\n",
      "AGUSTIN    81    30   \n",
      "ALAN       60    95   \n",
      "ANDRÉS     72    28   \n",
      "ARIADNA    24    84   \n",
      "BAUTISTA   15    84   \n",
      "CAROLINA   91    43   \n",
      "CESAR      12    66   \n",
      "DAVID      70    51   \n",
      "DIEGO      29    4    \n",
      "DOLORES    42    11   \n",
      "DYLAN      16    58   \n",
      "ELIANA     3     10   \n",
      "EMANUEL    35    13   \n",
      "FABIÁN     67    34   \n",
      "FACUNDO    10    96   \n",
      "FACUNDO    57    71   \n",
      "FEDERICO   11    86   \n",
      "FEDERICO   69    37   \n",
      "GONZALO    12    64   \n",
      "GREGORIO   77    13   \n",
      "IGNACIO    13    8    \n",
      "JONATHAN   86    87   \n",
      "JONATHAN   48    14   \n",
      "JORGE      65    14   \n",
      "JOSE       51    49   \n",
      "JUAN       41    27   \n",
      "JUAN       87    55   \n",
      "JUAN       43    69   \n",
      "JULIAN     10    77   \n",
      "JULIETA    87    59   \n",
      "LAUTARO    91    57   \n",
      "LEONEL     15    40   \n",
      "LUIS       44    96   \n",
      "LUIS       85    24   \n",
      "MARCOS     73    30   \n",
      "MARÍA      37    73   \n",
      "MATEO      42    95   \n",
      "MATIAS     95    19   \n",
      "NICOLÁS    18    47   \n",
      "NICOLÁS    7     15   \n",
      "NOELIA     74    31   \n",
      "PABLO      60    39   \n",
      "PRISCILA   9     15   \n",
      "TOMAS      65    74   \n",
      "TOMÁS      93    33   \n",
      "ULISES     63    57   \n",
      "YANINA     74    10   \n"
     ]
    }
   ],
   "source": [
    "print(f\"{'Nombre':<10} {'Ev 1':<5} {'Ev 2':<5}\")\n",
    "print('-----------------------------------------')\n",
    "for i in range(len(lista_estudiantes)):\n",
    "    print(f\"{lista_estudiantes[i]:<10} {lista_notas1[i]:<5} {lista_notas2[i]:<5}\")\n",
    "    # (12-len(lista_estudiantes[i])) es utilizado solamente a fines de alinear en columnas. Agrego la cantidad \n",
    "    # de espacios necesarias para que cada impresión del nombre tenga 12 caracteres."
   ]
  },
  {
   "cell_type": "markdown",
   "metadata": {},
   "source": [
    "------------------------------------------------------------------------------------------------------------\n",
    "<h2>🎯 Generación de Estructura.</h2><a class=\"anchor\" id=\"genera_estructura\"></a>"
   ]
  },
  {
   "cell_type": "markdown",
   "metadata": {},
   "source": [
    "Para desarrollar este punto, lo que haremos será confeccionar una función que nos permita **consolidar** las notas de cada alumno, en donde  ```nota consolidada = nota ev1 + nota ev2```.\n",
    "\n",
    "Dicha función, que la llamaremos ```consolidar_notas()```, recibirá como **parametros 3 listas**: \n",
    "* la lista de nombres\n",
    "* la lista de notas1\n",
    "* la lista de notas2\n",
    "\n",
    "Y retornará una única **lista nesteada**, conformada por ```[[lista de alumnos],[lista de nota consolidada]]```\n",
    "\n",
    "Esta estructura de \"Lista de Listas\", la elijo dado que\n",
    "* la información inicial ya viene ordenada\n",
    "* dicha información fue estructurada luego en listas de la misma longitud\n",
    "* hay una relación lineal entre cada linea de los tres archivos. (*es decir, a la fila 1 del archivo de nombres le corresponde la fila 1 del archivo de notas 1 y la fila 1 del archivo de notas2*)\n",
    "\n",
    "Asimismo, tener una lista nesteada conformada por dos listas de la misma longitud, me permitirá recorrer de manera simple y con un solo índice ambas estructuras."
   ]
  },
  {
   "cell_type": "code",
   "execution_count": 4,
   "metadata": {},
   "outputs": [],
   "source": [
    "def consolidar_notas(alumnos:list,notas1:list, notas2:list): \n",
    "    resultado = []\n",
    "    notas_sum = []\n",
    "    for i in range(len(alumnos)):\n",
    "        aux = int(notas1[i]) + int(notas2[i])\n",
    "        notas_sum.append(aux)\n",
    "        \n",
    "    # generaremos una lista nesteada, entre nuestros alumnos y las notas consolidadas\n",
    "    resultado.append(alumnos)\n",
    "    resultado.append(notas_sum)                   \n",
    "    return resultado                                            "
   ]
  },
  {
   "cell_type": "code",
   "execution_count": 9,
   "metadata": {},
   "outputs": [
    {
     "name": "stdout",
     "output_type": "stream",
     "text": [
      "Nueva estructura \n",
      "\n",
      "👨‍🎓Alumnos\n",
      "\n",
      "['AGUSTIN', 'ALAN', 'ANDRÉS', 'ARIADNA', 'BAUTISTA', 'CAROLINA', 'CESAR', 'DAVID', 'DIEGO', 'DOLORES', 'DYLAN', 'ELIANA', 'EMANUEL', 'FABIÁN', 'FACUNDO', 'FACUNDO', 'FEDERICO', 'FEDERICO', 'GONZALO', 'GREGORIO', 'IGNACIO', 'JONATHAN', 'JONATHAN', 'JORGE', 'JOSE', 'JUAN', 'JUAN', 'JUAN', 'JULIAN', 'JULIETA', 'LAUTARO', 'LEONEL', 'LUIS', 'LUIS', 'MARCOS', 'MARÍA', 'MATEO', 'MATIAS', 'NICOLÁS', 'NICOLÁS', 'NOELIA', 'PABLO', 'PRISCILA', 'TOMAS', 'TOMÁS', 'ULISES', 'YANINA']\n",
      "\n",
      "📝Notas\n",
      "\n",
      "[111, 155, 100, 108, 99, 134, 78, 121, 33, 53, 74, 13, 48, 101, 106, 128, 97, 106, 76, 90, 21, 173, 62, 79, 100, 68, 142, 112, 87, 146, 148, 55, 140, 109, 103, 110, 137, 114, 65, 22, 105, 99, 24, 139, 126, 120, 84]\n",
      "\n",
      "\n",
      "Al trabajar con una lista nesteada, podemos recorrerla utilizando un solo indice para ambas: \n",
      "\n",
      "🌟Alumno: AGUSTIN    📝 Nota consolidada 111\n",
      "🌟Alumno: ALAN       📝 Nota consolidada 155\n",
      "🌟Alumno: ANDRÉS     📝 Nota consolidada 100\n",
      "🌟Alumno: ARIADNA    📝 Nota consolidada 108\n",
      "🌟Alumno: BAUTISTA   📝 Nota consolidada 99\n",
      "🌟Alumno: CAROLINA   📝 Nota consolidada 134\n",
      "🌟Alumno: CESAR      📝 Nota consolidada 78\n",
      "🌟Alumno: DAVID      📝 Nota consolidada 121\n",
      "🌟Alumno: DIEGO      📝 Nota consolidada 33\n",
      "🌟Alumno: DOLORES    📝 Nota consolidada 53\n",
      "🌟Alumno: DYLAN      📝 Nota consolidada 74\n",
      "🌟Alumno: ELIANA     📝 Nota consolidada 13\n",
      "🌟Alumno: EMANUEL    📝 Nota consolidada 48\n",
      "🌟Alumno: FABIÁN     📝 Nota consolidada 101\n",
      "🌟Alumno: FACUNDO    📝 Nota consolidada 106\n",
      "🌟Alumno: FACUNDO    📝 Nota consolidada 128\n",
      "🌟Alumno: FEDERICO   📝 Nota consolidada 97\n",
      "🌟Alumno: FEDERICO   📝 Nota consolidada 106\n",
      "🌟Alumno: GONZALO    📝 Nota consolidada 76\n",
      "🌟Alumno: GREGORIO   📝 Nota consolidada 90\n",
      "🌟Alumno: IGNACIO    📝 Nota consolidada 21\n",
      "🌟Alumno: JONATHAN   📝 Nota consolidada 173\n",
      "🌟Alumno: JONATHAN   📝 Nota consolidada 62\n",
      "🌟Alumno: JORGE      📝 Nota consolidada 79\n",
      "🌟Alumno: JOSE       📝 Nota consolidada 100\n",
      "🌟Alumno: JUAN       📝 Nota consolidada 68\n",
      "🌟Alumno: JUAN       📝 Nota consolidada 142\n",
      "🌟Alumno: JUAN       📝 Nota consolidada 112\n",
      "🌟Alumno: JULIAN     📝 Nota consolidada 87\n",
      "🌟Alumno: JULIETA    📝 Nota consolidada 146\n",
      "🌟Alumno: LAUTARO    📝 Nota consolidada 148\n",
      "🌟Alumno: LEONEL     📝 Nota consolidada 55\n",
      "🌟Alumno: LUIS       📝 Nota consolidada 140\n",
      "🌟Alumno: LUIS       📝 Nota consolidada 109\n",
      "🌟Alumno: MARCOS     📝 Nota consolidada 103\n",
      "🌟Alumno: MARÍA      📝 Nota consolidada 110\n",
      "🌟Alumno: MATEO      📝 Nota consolidada 137\n",
      "🌟Alumno: MATIAS     📝 Nota consolidada 114\n",
      "🌟Alumno: NICOLÁS    📝 Nota consolidada 65\n",
      "🌟Alumno: NICOLÁS    📝 Nota consolidada 22\n",
      "🌟Alumno: NOELIA     📝 Nota consolidada 105\n",
      "🌟Alumno: PABLO      📝 Nota consolidada 99\n",
      "🌟Alumno: PRISCILA   📝 Nota consolidada 24\n",
      "🌟Alumno: TOMAS      📝 Nota consolidada 139\n",
      "🌟Alumno: TOMÁS      📝 Nota consolidada 126\n",
      "🌟Alumno: ULISES     📝 Nota consolidada 120\n",
      "🌟Alumno: YANINA     📝 Nota consolidada 84\n"
     ]
    }
   ],
   "source": [
    "nueva_estructura = consolidar_notas(lista_estudiantes, lista_notas1, lista_notas2)\n",
    "\n",
    "print(f\"Nueva estructura \\n\\n👨‍🎓Alumnos\\n\\n{nueva_estructura[0]}\\n\\n📝Notas\\n\\n{nueva_estructura[1]}\\n\\n\")\n",
    "\n",
    "print(\"Al trabajar con una lista nesteada, podemos recorrerla utilizando un solo indice para ambas: \\n\")\n",
    "for i in range(len(nueva_estructura[0])):\n",
    "    print(f\"🌟Alumno: {nueva_estructura[0][i]:<10} 📝 Nota consolidada {nueva_estructura[1][i]}\")"
   ]
  },
  {
   "cell_type": "markdown",
   "metadata": {},
   "source": [
    "---------------------------------------------------------------------------------------------------------\n",
    "<h2>🎯 Calculo del Promedio e Informe</h2><a class=\"anchor\" id=\"promedio\"></a>"
   ]
  },
  {
   "cell_type": "markdown",
   "metadata": {},
   "source": [
    "Para desarrollar este punto, lo que haremos será:\n",
    "* Construir una función que retorne el promedio de los elementos de una lista pasada como parámetro.\n",
    "* Recorreremos la estructura consolidada generada en el punto anterior, y en cada iteración compararemos si la nota que hay en el índice [i] de la segunda lista de la estructura, es o no inferior al promedio.<br> En aquellos casos que la comparación resulte verdadera, podemos obtener el nombre del alumno con tan solo ir a la misma posición i de la primera lista de la estructura consolidada."
   ]
  },
  {
   "cell_type": "code",
   "execution_count": 10,
   "metadata": {},
   "outputs": [],
   "source": [
    "def calcular_promedio(lista:list):\n",
    "    total = 0\n",
    "    for num in lista:\n",
    "        total+=num\n",
    "    return total/len(lista)"
   ]
  },
  {
   "cell_type": "code",
   "execution_count": 11,
   "metadata": {},
   "outputs": [
    {
     "name": "stdout",
     "output_type": "stream",
     "text": [
      "Los siguientes alumnos obtuvieron notas inferiores al promedio de 96.19: \n",
      "🚩Alumno CESAR      Nota: 78\n",
      "🚩Alumno DIEGO      Nota: 33\n",
      "🚩Alumno DOLORES    Nota: 53\n",
      "🚩Alumno DYLAN      Nota: 74\n",
      "🚩Alumno ELIANA     Nota: 13\n",
      "🚩Alumno EMANUEL    Nota: 48\n",
      "🚩Alumno GONZALO    Nota: 76\n",
      "🚩Alumno GREGORIO   Nota: 90\n",
      "🚩Alumno IGNACIO    Nota: 21\n",
      "🚩Alumno JONATHAN   Nota: 62\n",
      "🚩Alumno JORGE      Nota: 79\n",
      "🚩Alumno JUAN       Nota: 68\n",
      "🚩Alumno JULIAN     Nota: 87\n",
      "🚩Alumno LEONEL     Nota: 55\n",
      "🚩Alumno NICOLÁS    Nota: 65\n",
      "🚩Alumno NICOLÁS    Nota: 22\n",
      "🚩Alumno PRISCILA   Nota: 24\n",
      "🚩Alumno YANINA     Nota: 84\n"
     ]
    }
   ],
   "source": [
    "promedio = calcular_promedio(nueva_estructura[1])\n",
    "\n",
    "print(f\"Los siguientes alumnos obtuvieron notas inferiores al promedio de {round(promedio,2)}: \")\n",
    "for i in range(len(nueva_estructura[0])):\n",
    "    if(nueva_estructura[1][i]<promedio):\n",
    "        print(f\"🚩Alumno {nueva_estructura[0][i]:<10} Nota: {nueva_estructura[1][i]}\")"
   ]
  },
  {
   "cell_type": "markdown",
   "metadata": {},
   "source": [
    "-------------------------------------------------------------------------------------\n",
    "<img src=\"img/banner1.jpg\">\n",
    "\n",
    "-------------------------------------------------------------------------------------"
   ]
  }
 ],
 "metadata": {
  "kernelspec": {
   "display_name": "Python 3",
   "language": "python",
   "name": "python3"
  },
  "language_info": {
   "codemirror_mode": {
    "name": "ipython",
    "version": 3
   },
   "file_extension": ".py",
   "mimetype": "text/x-python",
   "name": "python",
   "nbconvert_exporter": "python",
   "pygments_lexer": "ipython3",
   "version": "3.7.9"
  }
 },
 "nbformat": 4,
 "nbformat_minor": 4
}
