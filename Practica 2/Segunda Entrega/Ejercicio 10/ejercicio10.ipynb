{
 "cells": [
  {
   "cell_type": "markdown",
   "metadata": {},
   "source": [
    "<h1> <img src='img/py.png' width=50> Seminario de Lenguaje Python </h1>\n",
    "    \n",
    "<mark>Alumno:</mark> Sirai Juan Bautista <br>\n",
    "<mark>Legajo:</mark> 20196/3\n",
    "    \n",
    "<img src='img/cat-typing.gif' width=\"800\" alt='Python Banner'>\n",
    "<h3> Ejercicio 10 </h3>\n",
    "\n",
    "**Consigna:** <br>\n",
    "\n",
    "Trabajando con los contenidos de los archivos que pueden acceder en el curso:\n",
    "* Nombres\n",
    "* Eval1\n",
    "* Eval2\n",
    "    \n",
    "Manipule estos archivos para realizar lo siguiente:\n",
    "* Generar una estructura con los nombres de los estudiantes y la suma de ambas notas.\n",
    "* Calcular el promedio de las notas totales e informar que alumnos obtuvieron menos que el\n",
    "promedio.\n",
    "\n",
    "-------------------------------------------------------------------------------------------\n",
    "\n",
    "<h2> Indice de contenidos </h2>\n",
    "\n",
    "* [Apertura y Lectura de Archivos](#apertura)\n",
    "* [Generación de Nueva Estructura](#genera_estructura)\n",
    "* [Calculo del promedio e Informe](#promedio)\n",
    "\n",
    "----------------------------------------------------------------------------------------------"
   ]
  },
  {
   "cell_type": "markdown",
   "metadata": {},
   "source": [
    "<h2>🎯 Apertura y Lectura de archivos </h2> <a class=\"anchor\" id=\"apertura\"></a>"
   ]
  },
  {
   "cell_type": "markdown",
   "metadata": {},
   "source": [
    "En esta sección, vamos a proceder a leer cada uno de los txt proporcionados, y a almacenarlos en una <mark>estructura de listas</mark>, sabiendo que:\n",
    "* a cada indice de la **lista de nombres**, le correspondera la nota almacenada en **dicho índice** en las listas de evaluaciones 1 y evaluaciones 2.\n",
    "* las tres listas poseen la misma cantidad de elementos.\n",
    "\n",
    "Dado que en los txt se almacena un **espacio en blanco** al final de todos los archivos, en nuestras listas omitiremos almacenar dicho espacio en blanco, mediante la técnica de **slice**:  ```lista[:-1]```\n",
    "\n",
    "Como paso de pre-procesamiento, definiremos una función que limpie nuestros txt de aquellos caracteres indeseados:\n",
    "\n",
    "```python\n",
    "def clean(diccionario, texto):\n",
    "    for i, j in diccionario.items():\n",
    "        texto = texto.replace(i,j)\n",
    "    return texto\n",
    "```\n",
    "\n",
    "En donde **diccionario**, no es más que el mapeo de los caracteres que queremos sustituir y su respectivo reemplazo\n",
    "\n",
    "```python\n",
    "diccionario = {\n",
    "    \"'\": \"\",\n",
    "    \",\": \"\",\n",
    "    \" \": \"\"\n",
    "}\n",
    "```"
   ]
  },
  {
   "cell_type": "code",
   "execution_count": 37,
   "metadata": {},
   "outputs": [],
   "source": [
    "# Definimos una pequeña función para limpiar el txt de nombres, de aquellos caracteres indeseados.\n",
    "\n",
    "diccionario = {\n",
    "    \"'\": \"\",\n",
    "    \",\": \"\",\n",
    "    \" \": \"\"\n",
    "}\n",
    "\n",
    "def clean(diccionario, texto):\n",
    "    for i, j in diccionario.items():\n",
    "        texto = texto.replace(i,j)\n",
    "    return texto"
   ]
  },
  {
   "cell_type": "markdown",
   "metadata": {},
   "source": [
    "Mediante el método ```with open()```, procederemos a la apertura de cada uno de los tres txt, y los convertiremos a lista.<br>\n",
    "Tal lo comentado en el punto anterior, mediante un encademamiento vamos a generar en una misma linea el resultado deseado:\n",
    "* funcion clean --> obtengo texto limpio --> convierto a mayuscula --> convierto a lista separando por el escape de linea --> omito el ultimo espacio en blanco"
   ]
  },
  {
   "cell_type": "code",
   "execution_count": 38,
   "metadata": {},
   "outputs": [],
   "source": [
    "# Lista de estudiantes\n",
    "\n",
    "with open('data/nombres_1.txt', 'r',encoding=\"utf-8\") as f:\n",
    "    lista_estudiantes = clean(diccionario, f.read()).upper().split('\\n')[:-1]\n",
    "    \n",
    "# Lista de notas 1\n",
    "with open('data/eval1.txt', 'r', encoding=\"utf-8\") as f:\n",
    "    lista_notas1 = clean(diccionario, f.read()).split('\\n')[:-1]\n",
    "    \n",
    "# Lista de notas 2\n",
    "\n",
    "with open('data/eval2.txt', 'r', encoding=\"utf-8\") as f:\n",
    "    lista_notas2 = clean(diccionario, f.read()).split('\\n')[:-1]"
   ]
  },
  {
   "cell_type": "markdown",
   "metadata": {},
   "source": [
    "Mostramos por pantalla las listas generadas: "
   ]
  },
  {
   "cell_type": "code",
   "execution_count": 39,
   "metadata": {},
   "outputs": [
    {
     "name": "stdout",
     "output_type": "stream",
     "text": [
      "Nombre     Ev 1  Ev 2 \n",
      "-----------------------------------------\n",
      "AGUSTIN    81    30   \n",
      "ALAN       60    95   \n",
      "ANDRÉS     72    28   \n",
      "ARIADNA    24    84   \n",
      "BAUTISTA   15    84   \n",
      "CAROLINA   91    43   \n",
      "CESAR      12    66   \n",
      "DAVID      70    51   \n",
      "DIEGO      29    4    \n",
      "DOLORES    42    11   \n",
      "DYLAN      16    58   \n",
      "ELIANA     3     10   \n",
      "EMANUEL    35    13   \n",
      "FABIÁN     67    34   \n",
      "FACUNDO    10    96   \n",
      "FACUNDO    57    71   \n",
      "FEDERICO   11    86   \n",
      "FEDERICO   69    37   \n",
      "GONZALO    12    64   \n",
      "GREGORIO   77    13   \n",
      "IGNACIO    13    8    \n",
      "JONATHAN   86    87   \n",
      "JONATHAN   48    14   \n",
      "JORGE      65    14   \n",
      "JOSE       51    49   \n",
      "JUAN       41    27   \n",
      "JUAN       87    55   \n",
      "JUAN       43    69   \n",
      "JULIAN     10    77   \n",
      "JULIETA    87    59   \n",
      "LAUTARO    91    57   \n",
      "LEONEL     15    40   \n",
      "LUIS       44    96   \n",
      "LUIS       85    24   \n",
      "MARCOS     73    30   \n",
      "MARÍA      37    73   \n",
      "MATEO      42    95   \n",
      "MATIAS     95    19   \n",
      "NICOLÁS    18    47   \n",
      "NICOLÁS    7     15   \n",
      "NOELIA     74    31   \n",
      "PABLO      60    39   \n",
      "PRISCILA   9     15   \n",
      "TOMAS      65    74   \n",
      "TOMÁS      93    33   \n",
      "ULISES     63    57   \n",
      "YANINA     74    10   \n"
     ]
    }
   ],
   "source": [
    "print(f\"{'Nombre':<10} {'Ev 1':<5} {'Ev 2':<5}\")\n",
    "print('-----------------------------------------')\n",
    "for i in range(len(lista_estudiantes)):\n",
    "    print(f\"{lista_estudiantes[i]:<10} {lista_notas1[i]:<5} {lista_notas2[i]:<5}\")\n",
    "    # (12-len(lista_estudiantes[i])) es utilizado solamente a fines de alinear en columnas. Agrego la cantidad \n",
    "    # de espacios necesarias para que cada impresión del nombre tenga 12 caracteres."
   ]
  },
  {
   "cell_type": "markdown",
   "metadata": {},
   "source": [
    "------------------------------------------------------------------------------------------------------------\n",
    "<h2>🎯 Generación de Estructura.</h2><a class=\"anchor\" id=\"genera_estructura\"></a>"
   ]
  },
  {
   "cell_type": "markdown",
   "metadata": {},
   "source": [
    "Para desarrollar este punto, lo que haremos será confeccionar una función que nos permita **consolidar** las notas de cada alumno, en donde  ```nota consolidada = nota ev1 + nota ev2```.\n",
    "\n",
    "Dicha función, que la llamaremos ```consolidar_notas()```, recibirá como **parametros 3 listas**: \n",
    "* la lista de nombres\n",
    "* la lista de notas1\n",
    "* la lista de notas2\n",
    "\n",
    "Y retornará un único **diccionario**, conformada por ```id_alumno: nota1 + nota2```\n",
    "\n",
    "En donde:\n",
    "* id_alumno: es la clave del diccionario. Al nombre de cada alumno le agregaremos un ID autogenerado, ya que caso contrario el diccionario nos agruparía aquellos alumnos de igual nombre (ya que permite solamente claves unicas)\n",
    "* nota1 + nota2 es el valor asociado a cada clave\n",
    "\n",
    "El diccionario lo crearemos bajo la técnica de dict comprehension, y utilizaremos la función ```zip()```, que al pasarle las dos listas de notas nos creará una lista de tuplas sobre las cuales iterar.\n"
   ]
  },
  {
   "cell_type": "code",
   "execution_count": 42,
   "metadata": {},
   "outputs": [],
   "source": [
    "def consolidar(alumnos:list, notas1:list, notas2:list):\n",
    "    values = [int(x) + int(y) for x,y in zip(notas1, notas2)]\n",
    "    keys = [f\"{i}+'_' + {alumnos[i]}\" for i in range(len(alumnos))]\n",
    "    resultado = dict(zip(keys, values))\n",
    "    return resultado"
   ]
  },
  {
   "cell_type": "code",
   "execution_count": 43,
   "metadata": {},
   "outputs": [
    {
     "name": "stdout",
     "output_type": "stream",
     "text": [
      "Nueva estructura \n",
      "\n",
      "👨‍🎓Alumnos\n",
      "\n",
      "dict_keys([\"0+'_' + AGUSTIN\", \"1+'_' + ALAN\", \"2+'_' + ANDRÉS\", \"3+'_' + ARIADNA\", \"4+'_' + BAUTISTA\", \"5+'_' + CAROLINA\", \"6+'_' + CESAR\", \"7+'_' + DAVID\", \"8+'_' + DIEGO\", \"9+'_' + DOLORES\", \"10+'_' + DYLAN\", \"11+'_' + ELIANA\", \"12+'_' + EMANUEL\", \"13+'_' + FABIÁN\", \"14+'_' + FACUNDO\", \"15+'_' + FACUNDO\", \"16+'_' + FEDERICO\", \"17+'_' + FEDERICO\", \"18+'_' + GONZALO\", \"19+'_' + GREGORIO\", \"20+'_' + IGNACIO\", \"21+'_' + JONATHAN\", \"22+'_' + JONATHAN\", \"23+'_' + JORGE\", \"24+'_' + JOSE\", \"25+'_' + JUAN\", \"26+'_' + JUAN\", \"27+'_' + JUAN\", \"28+'_' + JULIAN\", \"29+'_' + JULIETA\", \"30+'_' + LAUTARO\", \"31+'_' + LEONEL\", \"32+'_' + LUIS\", \"33+'_' + LUIS\", \"34+'_' + MARCOS\", \"35+'_' + MARÍA\", \"36+'_' + MATEO\", \"37+'_' + MATIAS\", \"38+'_' + NICOLÁS\", \"39+'_' + NICOLÁS\", \"40+'_' + NOELIA\", \"41+'_' + PABLO\", \"42+'_' + PRISCILA\", \"43+'_' + TOMAS\", \"44+'_' + TOMÁS\", \"45+'_' + ULISES\", \"46+'_' + YANINA\"])\n",
      "\n",
      "📝Notas\n",
      "\n",
      "dict_values([111, 155, 100, 108, 99, 134, 78, 121, 33, 53, 74, 13, 48, 101, 106, 128, 97, 106, 76, 90, 21, 173, 62, 79, 100, 68, 142, 112, 87, 146, 148, 55, 140, 109, 103, 110, 137, 114, 65, 22, 105, 99, 24, 139, 126, 120, 84])\n",
      "\n",
      "\n",
      "Procederemos a imprimir las notas para cada alumno: \n",
      "👨‍🎓Alumno: 0+'_' + AGUSTIN 📝Nota: 111\n",
      "👨‍🎓Alumno: 1+'_' + ALAN 📝Nota: 155\n",
      "👨‍🎓Alumno: 2+'_' + ANDRÉS 📝Nota: 100\n",
      "👨‍🎓Alumno: 3+'_' + ARIADNA 📝Nota: 108\n",
      "👨‍🎓Alumno: 4+'_' + BAUTISTA 📝Nota: 99\n",
      "👨‍🎓Alumno: 5+'_' + CAROLINA 📝Nota: 134\n",
      "👨‍🎓Alumno: 6+'_' + CESAR 📝Nota: 78\n",
      "👨‍🎓Alumno: 7+'_' + DAVID 📝Nota: 121\n",
      "👨‍🎓Alumno: 8+'_' + DIEGO 📝Nota: 33\n",
      "👨‍🎓Alumno: 9+'_' + DOLORES 📝Nota: 53\n",
      "👨‍🎓Alumno: 10+'_' + DYLAN 📝Nota: 74\n",
      "👨‍🎓Alumno: 11+'_' + ELIANA 📝Nota: 13\n",
      "👨‍🎓Alumno: 12+'_' + EMANUEL 📝Nota: 48\n",
      "👨‍🎓Alumno: 13+'_' + FABIÁN 📝Nota: 101\n",
      "👨‍🎓Alumno: 14+'_' + FACUNDO 📝Nota: 106\n",
      "👨‍🎓Alumno: 15+'_' + FACUNDO 📝Nota: 128\n",
      "👨‍🎓Alumno: 16+'_' + FEDERICO 📝Nota: 97\n",
      "👨‍🎓Alumno: 17+'_' + FEDERICO 📝Nota: 106\n",
      "👨‍🎓Alumno: 18+'_' + GONZALO 📝Nota: 76\n",
      "👨‍🎓Alumno: 19+'_' + GREGORIO 📝Nota: 90\n",
      "👨‍🎓Alumno: 20+'_' + IGNACIO 📝Nota: 21\n",
      "👨‍🎓Alumno: 21+'_' + JONATHAN 📝Nota: 173\n",
      "👨‍🎓Alumno: 22+'_' + JONATHAN 📝Nota: 62\n",
      "👨‍🎓Alumno: 23+'_' + JORGE 📝Nota: 79\n",
      "👨‍🎓Alumno: 24+'_' + JOSE 📝Nota: 100\n",
      "👨‍🎓Alumno: 25+'_' + JUAN 📝Nota: 68\n",
      "👨‍🎓Alumno: 26+'_' + JUAN 📝Nota: 142\n",
      "👨‍🎓Alumno: 27+'_' + JUAN 📝Nota: 112\n",
      "👨‍🎓Alumno: 28+'_' + JULIAN 📝Nota: 87\n",
      "👨‍🎓Alumno: 29+'_' + JULIETA 📝Nota: 146\n",
      "👨‍🎓Alumno: 30+'_' + LAUTARO 📝Nota: 148\n",
      "👨‍🎓Alumno: 31+'_' + LEONEL 📝Nota: 55\n",
      "👨‍🎓Alumno: 32+'_' + LUIS 📝Nota: 140\n",
      "👨‍🎓Alumno: 33+'_' + LUIS 📝Nota: 109\n",
      "👨‍🎓Alumno: 34+'_' + MARCOS 📝Nota: 103\n",
      "👨‍🎓Alumno: 35+'_' + MARÍA 📝Nota: 110\n",
      "👨‍🎓Alumno: 36+'_' + MATEO 📝Nota: 137\n",
      "👨‍🎓Alumno: 37+'_' + MATIAS 📝Nota: 114\n",
      "👨‍🎓Alumno: 38+'_' + NICOLÁS 📝Nota: 65\n",
      "👨‍🎓Alumno: 39+'_' + NICOLÁS 📝Nota: 22\n",
      "👨‍🎓Alumno: 40+'_' + NOELIA 📝Nota: 105\n",
      "👨‍🎓Alumno: 41+'_' + PABLO 📝Nota: 99\n",
      "👨‍🎓Alumno: 42+'_' + PRISCILA 📝Nota: 24\n",
      "👨‍🎓Alumno: 43+'_' + TOMAS 📝Nota: 139\n",
      "👨‍🎓Alumno: 44+'_' + TOMÁS 📝Nota: 126\n",
      "👨‍🎓Alumno: 45+'_' + ULISES 📝Nota: 120\n",
      "👨‍🎓Alumno: 46+'_' + YANINA 📝Nota: 84\n"
     ]
    }
   ],
   "source": [
    "# nueva_estructura = consolidar_notas(lista_estudiantes, lista_notas1, lista_notas2)\n",
    "nueva_estructura = consolidar(lista_estudiantes, lista_notas1, lista_notas2)\n",
    "\n",
    "print(f\"Nueva estructura \\n\\n👨‍🎓Alumnos\\n\\n{nueva_estructura.keys()}\\n\\n📝Notas\\n\\n{nueva_estructura.values()}\\n\\n\")\n",
    "\n",
    "print(\"Procederemos a imprimir las notas para cada alumno: \")\n",
    "for keys, values in nueva_estructura.items():\n",
    "    print(f\"👨‍🎓Alumno: {keys :<10} 📝Nota: {values}\")"
   ]
  },
  {
   "cell_type": "markdown",
   "metadata": {},
   "source": [
    "---------------------------------------------------------------------------------------------------------\n",
    "<h2>🎯 Calculo del Promedio e Informe</h2><a class=\"anchor\" id=\"promedio\"></a>"
   ]
  },
  {
   "cell_type": "markdown",
   "metadata": {},
   "source": [
    "Para desarrollar este punto, lo que haremos será:\n",
    "* Construir una función que retorne el promedio de los elementos de un diccionario pasado como parámetro.\n",
    "* Recorreremos la estructura consolidada generada en el punto anterior, y en cada iteración compararemos si la nota que hay en el iterable, es o no inferior al promedio.<br> En aquellos casos que la comparación resulte verdadera, podemos obtener el nombre del alumno con tan solo imprimir la clave la estructura consolidada."
   ]
  },
  {
   "cell_type": "code",
   "execution_count": 35,
   "metadata": {},
   "outputs": [],
   "source": [
    "def calcular_promedio(diccionario:dict):\n",
    "    total = 0\n",
    "    for num in diccionario.values():\n",
    "        total+=num\n",
    "    print(len(diccionario))\n",
    "    return total/len(diccionario)"
   ]
  },
  {
   "cell_type": "code",
   "execution_count": 36,
   "metadata": {},
   "outputs": [
    {
     "name": "stdout",
     "output_type": "stream",
     "text": [
      "40\n",
      "Los siguientes alumnos obtuvieron notas inferiores al promedio de 93.25: \n",
      "🚩Alumno CESAR      Nota: 78\n",
      "🚩Alumno DIEGO      Nota: 33\n",
      "🚩Alumno DOLORES    Nota: 53\n",
      "🚩Alumno DYLAN      Nota: 74\n",
      "🚩Alumno ELIANA     Nota: 13\n",
      "🚩Alumno EMANUEL    Nota: 48\n",
      "🚩Alumno GONZALO    Nota: 76\n",
      "🚩Alumno GREGORIO   Nota: 90\n",
      "🚩Alumno IGNACIO    Nota: 21\n",
      "🚩Alumno JONATHAN   Nota: 62\n",
      "🚩Alumno JORGE      Nota: 79\n",
      "🚩Alumno JULIAN     Nota: 87\n",
      "🚩Alumno LEONEL     Nota: 55\n",
      "🚩Alumno NICOLÁS    Nota: 22\n",
      "🚩Alumno PRISCILA   Nota: 24\n",
      "🚩Alumno YANINA     Nota: 84\n"
     ]
    }
   ],
   "source": [
    "promedio = calcular_promedio(nueva_estructura)\n",
    "\n",
    "print(f\"Los siguientes alumnos obtuvieron notas inferiores al promedio de {round(promedio,2)}: \")\n",
    "for key, values in nueva_estructura.items():\n",
    "    if values<promedio:\n",
    "        print(f\"🚩Alumno {key :<10} Nota: {values}\")"
   ]
  },
  {
   "cell_type": "markdown",
   "metadata": {},
   "source": [
    "-------------------------------------------------------------------------------------\n",
    "<img src=\"img/banner1.jpg\">\n",
    "\n",
    "-------------------------------------------------------------------------------------"
   ]
  }
 ],
 "metadata": {
  "kernelspec": {
   "display_name": "Python 3",
   "language": "python",
   "name": "python3"
  },
  "language_info": {
   "codemirror_mode": {
    "name": "ipython",
    "version": 3
   },
   "file_extension": ".py",
   "mimetype": "text/x-python",
   "name": "python",
   "nbconvert_exporter": "python",
   "pygments_lexer": "ipython3",
   "version": "3.7.9"
  }
 },
 "nbformat": 4,
 "nbformat_minor": 4
}
